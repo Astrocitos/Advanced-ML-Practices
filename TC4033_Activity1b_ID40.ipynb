{
  "cells": [
    {
      "cell_type": "markdown",
      "metadata": {
        "id": "view-in-github",
        "colab_type": "text"
      },
      "source": [
        "<a href=\"https://colab.research.google.com/github/Astrocitos/Advanced-ML-Practices/blob/main/TC4033_Activity1b_ID40.ipynb\" target=\"_parent\"><img src=\"https://colab.research.google.com/assets/colab-badge.svg\" alt=\"Open In Colab\"/></a>"
      ]
    },
    {
      "cell_type": "markdown",
      "source": [
        "# **TC 5033: Advanced Machine Learning Methods**"
      ],
      "metadata": {
        "id": "KBH2hK4Tpqc6"
      }
    },
    {
      "cell_type": "markdown",
      "metadata": {
        "id": "end6C1b8FPd4"
      },
      "source": [
        "## Deep Learning\n",
        "## Fully Connected Deep Neural Networks\n",
        "\n",
        "#### Activity 1b: Implementing a Fully Connected Network for Kaggle ASL Dataset\n",
        "\n",
        "- Objective\n",
        "\n",
        "The aim of this part of the activity is to apply your understanding of Fully Connected Networks by implementing a multilayer network for the [Kaggle ASL (American Sign Language) dataset](https://www.kaggle.com/datasets/grassknoted/asl-alphabet). While you have been provided with a complete solution for a Fully Connected Network using Numpy for the MNIST dataset, you are encouraged to try to come up with the solution.\n",
        "\n",
        "- Instructions\n",
        "\n",
        "    This activity requires submission in teams of 3 or 4 members. Submissions from smaller or larger teams will not be accepted unless prior approval has been granted (only due to exceptional circumstances). While teamwork is encouraged, each member is expected to contribute individually to the assignment. The final submission should feature the best arguments and solutions from each team member. Only one person per team needs to submit the completed work, but it is imperative that the names of all team members are listed in a Markdown cell at the very beginning of the notebook (either the first or second cell). Failure to include all team member names will result in the grade being awarded solely to the individual who submitted the assignment, with zero points given to other team members (no exceptions will be made to this rule).\n",
        "\n",
        "    Load and Preprocess Data: You are provided a starter code to load the data. Be sure to understand the code.\n",
        "\n",
        "    Review MNIST Notebook (Optional): Before diving into this activity, you have the option to revisit the MNIST example to refresh your understanding of how to build a Fully Connected Network using Numpy.\n",
        "\n",
        "    Start Fresh: Although you can refer to the MNIST solution at any point, try to implement the network for the ASL dataset on your own. This will reinforce your learning and understanding of the architecture and mathematics involved.\n",
        "\n",
        "    Implement Forward and Backward Pass: Write the code to perform the forward and backward passes, keeping in mind the specific challenges and characteristics of the ASL dataset.\n",
        "    \n",
        "     Design the Network: Create the architecture of the Fully Connected Network tailored for the ASL dataset. Choose the number of hidden layers, neurons, and hyperparameters judiciously.\n",
        "\n",
        "    Train the Model: Execute the training loop, ensuring to track performance metrics such as loss and accuracy.\n",
        "\n",
        "    Analyze and Document: Use Markdown cells to document in detail the choices you made in terms of architecture and hyperparameters, you may use figures, equations, etc to aid in your explanations. Include any metrics that help justify these choices and discuss the model's performance.  \n",
        "\n",
        "- Evaluation Criteria\n",
        "\n",
        "    - Code Readability and Comments\n",
        "    - Appropriateness of chosen architecture and hyperparameters for the ASL dataset\n",
        "    - Performance of the model on the ASL dataset (at least 70% acc)\n",
        "    - Quality of Markdown documentation\n",
        "\n",
        "- Submission\n",
        "\n",
        "Submit this Jupyter Notebook in canvas with your complete solution, ensuring your code is well-commented and includes Markdown cells that explain your design choices, results, and any challenges you encountered.\n"
      ]
    },
    {
      "cell_type": "markdown",
      "source": [
        "##**Lead Professor**\n",
        "\n",
        "##Dr. Jose Antonio Cantoral-Ceballos\n",
        "\n",
        "\n",
        "\n",
        "##**Asistant Professor**\n",
        "\n",
        "##Dr. Carlos Villaseñor\n"
      ],
      "metadata": {
        "id": "ocLVbxqapuX2"
      }
    },
    {
      "cell_type": "markdown",
      "source": [
        "#**Team 40**\n",
        "\n",
        "##**Members:**\n",
        "\n",
        "##Iossif Moises Palli Laura                  A01794457\n",
        "\n",
        "##Astrid Rosario Bernaga Torres              A01793080\n",
        "\n",
        "##Cecilia Acevedo Rodríguez                  A01793953\n",
        "\n",
        "##Fredy Reyes Sánchez                        A01687370"
      ],
      "metadata": {
        "id": "JvwoVIzkn_-L"
      }
    },
    {
      "cell_type": "markdown",
      "source": [
        "# Introduction: American Sign Language (ASL) Hand Sign Recognition\n",
        "\n",
        "## Problem Statement\n",
        "\n",
        "The American Sign Language (ASL) is a vital means of communication for individuals with hearing impairments. Recognizing ASL hand signs through computer vision and machine learning can open up new possibilities for bridging communication gaps. In this project, our goal is to develop a machine learning model that can accurately classify ASL hand signs based on images.\n",
        "\n",
        "## ASL Dataset\n",
        "\n",
        "We are working with the ASL dataset, which consists of grayscale images of hand signs representing letters of the alphabet (A-Z) and digits (0-9). Each image is 28x28 pixels, resulting in a total of 24 unique classes (A-Z excluding J and Z). The dataset has been divided into training and validation sets.\n",
        "\n",
        "### Dataset Overview:\n",
        "\n",
        "- Number of Classes: 24\n",
        "- Image Size: 28x28 pixels\n",
        "- Total Samples: Training Set (27,455 samples), Validation Set (7,172 samples)\n",
        "- Labels: Each image is labeled with the corresponding ASL letter or digit.\n",
        "\n",
        "## Goals of the Code\n",
        "\n",
        "In this Jupyter Notebook, we aim to achieve the following goals:\n",
        "\n",
        "1. Data Preprocessing: Prepare and preprocess the ASL dataset for model training. This includes data normalization, splitting into validation and test sets, and exploring the dataset.\n",
        "\n",
        "2. Model Architecture: Define and implement a deep learning model architecture that can effectively learn and classify ASL hand signs.\n",
        "\n",
        "3. Model Training: Train the model using the training dataset and monitor its performance on the validation set. Implement training routines, including forward and backward passes.\n",
        "\n",
        "4. Evaluation: Evaluate the trained model on the test dataset to assess its accuracy in ASL hand sign recognition.\n",
        "\n",
        "5. Documentation: Provide detailed explanations, equations, and justifications to ensure code understanding and transparency.\n",
        "\n",
        "Let's begin by exploring the ASL dataset and preparing it for model training."
      ],
      "metadata": {
        "id": "lxU0CUUF69vd"
      }
    },
    {
      "cell_type": "markdown",
      "source": [
        "## Importing Libraries:"
      ],
      "metadata": {
        "id": "Wbmq__3EoY0C"
      }
    },
    {
      "cell_type": "code",
      "execution_count": 1,
      "metadata": {
        "id": "2lycA-hIFPd-"
      },
      "outputs": [],
      "source": [
        "import numpy as np\n",
        "import string\n",
        "import pandas as pd\n",
        "import matplotlib.pyplot as plt\n",
        "import cv2 as cv\n",
        "import os\n",
        "\n",
        "%load_ext autoreload\n",
        "%autoreload 2\n",
        "#################################\n",
        "%matplotlib inline"
      ]
    },
    {
      "cell_type": "markdown",
      "source": [
        "## Mounting Google Drive:"
      ],
      "metadata": {
        "id": "cvMhUqJ-o_h6"
      }
    },
    {
      "cell_type": "code",
      "source": [
        "# Import the drive module from the google.colab library\n",
        "from google.colab import drive\n",
        "drive.mount('/content/drive')"
      ],
      "metadata": {
        "colab": {
          "base_uri": "https://localhost:8080/",
          "height": 0
        },
        "id": "UhxgEHBbujGI",
        "outputId": "b244de17-3dd0-40f7-fea2-f8489471e9c3"
      },
      "execution_count": 2,
      "outputs": [
        {
          "output_type": "stream",
          "name": "stdout",
          "text": [
            "Drive already mounted at /content/drive; to attempt to forcibly remount, call drive.mount(\"/content/drive\", force_remount=True).\n"
          ]
        }
      ]
    },
    {
      "cell_type": "code",
      "source": [
        "# Define the directory path where the ASL dataset is located in Google Drive\n",
        "DIR = \"/content/drive/MyDrive/Tarea 1b/asl_data\"\n",
        "\n",
        "# Change the current working directory to the specified directory path\n",
        "os.chdir(DIR)"
      ],
      "metadata": {
        "id": "ax1TXf1xupB1"
      },
      "execution_count": 3,
      "outputs": []
    },
    {
      "cell_type": "markdown",
      "source": [
        "## Reading CSV Files:\n",
        "It reads two CSV files, 'sign_mnist_train.csv' and 'sign_mnist_valid.csv', using pandas and stores them in train_df and valid_df, respectively."
      ],
      "metadata": {
        "id": "sGILzUBQpIeI"
      }
    },
    {
      "cell_type": "code",
      "execution_count": 4,
      "metadata": {
        "id": "E5ELCtN5FPeA"
      },
      "outputs": [],
      "source": [
        "#Load the ASL daataset and preprocess it\n",
        "train_df = pd.read_csv(os.path.join(DIR, 'sign_mnist_train.csv'))\n",
        "valid_df = pd.read_csv(os.path.join(DIR, 'sign_mnist_valid.csv'))"
      ]
    },
    {
      "cell_type": "code",
      "execution_count": 5,
      "metadata": {
        "id": "esjvKChJFPeA",
        "colab": {
          "base_uri": "https://localhost:8080/",
          "height": 256
        },
        "outputId": "31007181-4d94-44bd-efd9-5fddc5e4f955"
      },
      "outputs": [
        {
          "output_type": "execute_result",
          "data": {
            "text/plain": [
              "   label  pixel1  pixel2  pixel3  pixel4  pixel5  pixel6  pixel7  pixel8  \\\n",
              "0      3     107     118     127     134     139     143     146     150   \n",
              "1      6     155     157     156     156     156     157     156     158   \n",
              "2      2     187     188     188     187     187     186     187     188   \n",
              "3      2     211     211     212     212     211     210     211     210   \n",
              "4     12     164     167     170     172     176     179     180     184   \n",
              "\n",
              "   pixel9  ...  pixel775  pixel776  pixel777  pixel778  pixel779  pixel780  \\\n",
              "0     153  ...       207       207       207       207       206       206   \n",
              "1     158  ...        69       149       128        87        94       163   \n",
              "2     187  ...       202       201       200       199       198       199   \n",
              "3     210  ...       235       234       233       231       230       226   \n",
              "4     185  ...        92       105       105       108       133       163   \n",
              "\n",
              "   pixel781  pixel782  pixel783  pixel784  \n",
              "0       206       204       203       202  \n",
              "1       175       103       135       149  \n",
              "2       198       195       194       195  \n",
              "3       225       222       229       163  \n",
              "4       157       163       164       179  \n",
              "\n",
              "[5 rows x 785 columns]"
            ],
            "text/html": [
              "\n",
              "  <div id=\"df-4fe5ed95-a5e1-4825-a5b8-810e2d693171\" class=\"colab-df-container\">\n",
              "    <div>\n",
              "<style scoped>\n",
              "    .dataframe tbody tr th:only-of-type {\n",
              "        vertical-align: middle;\n",
              "    }\n",
              "\n",
              "    .dataframe tbody tr th {\n",
              "        vertical-align: top;\n",
              "    }\n",
              "\n",
              "    .dataframe thead th {\n",
              "        text-align: right;\n",
              "    }\n",
              "</style>\n",
              "<table border=\"1\" class=\"dataframe\">\n",
              "  <thead>\n",
              "    <tr style=\"text-align: right;\">\n",
              "      <th></th>\n",
              "      <th>label</th>\n",
              "      <th>pixel1</th>\n",
              "      <th>pixel2</th>\n",
              "      <th>pixel3</th>\n",
              "      <th>pixel4</th>\n",
              "      <th>pixel5</th>\n",
              "      <th>pixel6</th>\n",
              "      <th>pixel7</th>\n",
              "      <th>pixel8</th>\n",
              "      <th>pixel9</th>\n",
              "      <th>...</th>\n",
              "      <th>pixel775</th>\n",
              "      <th>pixel776</th>\n",
              "      <th>pixel777</th>\n",
              "      <th>pixel778</th>\n",
              "      <th>pixel779</th>\n",
              "      <th>pixel780</th>\n",
              "      <th>pixel781</th>\n",
              "      <th>pixel782</th>\n",
              "      <th>pixel783</th>\n",
              "      <th>pixel784</th>\n",
              "    </tr>\n",
              "  </thead>\n",
              "  <tbody>\n",
              "    <tr>\n",
              "      <th>0</th>\n",
              "      <td>3</td>\n",
              "      <td>107</td>\n",
              "      <td>118</td>\n",
              "      <td>127</td>\n",
              "      <td>134</td>\n",
              "      <td>139</td>\n",
              "      <td>143</td>\n",
              "      <td>146</td>\n",
              "      <td>150</td>\n",
              "      <td>153</td>\n",
              "      <td>...</td>\n",
              "      <td>207</td>\n",
              "      <td>207</td>\n",
              "      <td>207</td>\n",
              "      <td>207</td>\n",
              "      <td>206</td>\n",
              "      <td>206</td>\n",
              "      <td>206</td>\n",
              "      <td>204</td>\n",
              "      <td>203</td>\n",
              "      <td>202</td>\n",
              "    </tr>\n",
              "    <tr>\n",
              "      <th>1</th>\n",
              "      <td>6</td>\n",
              "      <td>155</td>\n",
              "      <td>157</td>\n",
              "      <td>156</td>\n",
              "      <td>156</td>\n",
              "      <td>156</td>\n",
              "      <td>157</td>\n",
              "      <td>156</td>\n",
              "      <td>158</td>\n",
              "      <td>158</td>\n",
              "      <td>...</td>\n",
              "      <td>69</td>\n",
              "      <td>149</td>\n",
              "      <td>128</td>\n",
              "      <td>87</td>\n",
              "      <td>94</td>\n",
              "      <td>163</td>\n",
              "      <td>175</td>\n",
              "      <td>103</td>\n",
              "      <td>135</td>\n",
              "      <td>149</td>\n",
              "    </tr>\n",
              "    <tr>\n",
              "      <th>2</th>\n",
              "      <td>2</td>\n",
              "      <td>187</td>\n",
              "      <td>188</td>\n",
              "      <td>188</td>\n",
              "      <td>187</td>\n",
              "      <td>187</td>\n",
              "      <td>186</td>\n",
              "      <td>187</td>\n",
              "      <td>188</td>\n",
              "      <td>187</td>\n",
              "      <td>...</td>\n",
              "      <td>202</td>\n",
              "      <td>201</td>\n",
              "      <td>200</td>\n",
              "      <td>199</td>\n",
              "      <td>198</td>\n",
              "      <td>199</td>\n",
              "      <td>198</td>\n",
              "      <td>195</td>\n",
              "      <td>194</td>\n",
              "      <td>195</td>\n",
              "    </tr>\n",
              "    <tr>\n",
              "      <th>3</th>\n",
              "      <td>2</td>\n",
              "      <td>211</td>\n",
              "      <td>211</td>\n",
              "      <td>212</td>\n",
              "      <td>212</td>\n",
              "      <td>211</td>\n",
              "      <td>210</td>\n",
              "      <td>211</td>\n",
              "      <td>210</td>\n",
              "      <td>210</td>\n",
              "      <td>...</td>\n",
              "      <td>235</td>\n",
              "      <td>234</td>\n",
              "      <td>233</td>\n",
              "      <td>231</td>\n",
              "      <td>230</td>\n",
              "      <td>226</td>\n",
              "      <td>225</td>\n",
              "      <td>222</td>\n",
              "      <td>229</td>\n",
              "      <td>163</td>\n",
              "    </tr>\n",
              "    <tr>\n",
              "      <th>4</th>\n",
              "      <td>12</td>\n",
              "      <td>164</td>\n",
              "      <td>167</td>\n",
              "      <td>170</td>\n",
              "      <td>172</td>\n",
              "      <td>176</td>\n",
              "      <td>179</td>\n",
              "      <td>180</td>\n",
              "      <td>184</td>\n",
              "      <td>185</td>\n",
              "      <td>...</td>\n",
              "      <td>92</td>\n",
              "      <td>105</td>\n",
              "      <td>105</td>\n",
              "      <td>108</td>\n",
              "      <td>133</td>\n",
              "      <td>163</td>\n",
              "      <td>157</td>\n",
              "      <td>163</td>\n",
              "      <td>164</td>\n",
              "      <td>179</td>\n",
              "    </tr>\n",
              "  </tbody>\n",
              "</table>\n",
              "<p>5 rows × 785 columns</p>\n",
              "</div>\n",
              "    <div class=\"colab-df-buttons\">\n",
              "\n",
              "  <div class=\"colab-df-container\">\n",
              "    <button class=\"colab-df-convert\" onclick=\"convertToInteractive('df-4fe5ed95-a5e1-4825-a5b8-810e2d693171')\"\n",
              "            title=\"Convert this dataframe to an interactive table.\"\n",
              "            style=\"display:none;\">\n",
              "\n",
              "  <svg xmlns=\"http://www.w3.org/2000/svg\" height=\"24px\" viewBox=\"0 -960 960 960\">\n",
              "    <path d=\"M120-120v-720h720v720H120Zm60-500h600v-160H180v160Zm220 220h160v-160H400v160Zm0 220h160v-160H400v160ZM180-400h160v-160H180v160Zm440 0h160v-160H620v160ZM180-180h160v-160H180v160Zm440 0h160v-160H620v160Z\"/>\n",
              "  </svg>\n",
              "    </button>\n",
              "\n",
              "  <style>\n",
              "    .colab-df-container {\n",
              "      display:flex;\n",
              "      gap: 12px;\n",
              "    }\n",
              "\n",
              "    .colab-df-convert {\n",
              "      background-color: #E8F0FE;\n",
              "      border: none;\n",
              "      border-radius: 50%;\n",
              "      cursor: pointer;\n",
              "      display: none;\n",
              "      fill: #1967D2;\n",
              "      height: 32px;\n",
              "      padding: 0 0 0 0;\n",
              "      width: 32px;\n",
              "    }\n",
              "\n",
              "    .colab-df-convert:hover {\n",
              "      background-color: #E2EBFA;\n",
              "      box-shadow: 0px 1px 2px rgba(60, 64, 67, 0.3), 0px 1px 3px 1px rgba(60, 64, 67, 0.15);\n",
              "      fill: #174EA6;\n",
              "    }\n",
              "\n",
              "    .colab-df-buttons div {\n",
              "      margin-bottom: 4px;\n",
              "    }\n",
              "\n",
              "    [theme=dark] .colab-df-convert {\n",
              "      background-color: #3B4455;\n",
              "      fill: #D2E3FC;\n",
              "    }\n",
              "\n",
              "    [theme=dark] .colab-df-convert:hover {\n",
              "      background-color: #434B5C;\n",
              "      box-shadow: 0px 1px 3px 1px rgba(0, 0, 0, 0.15);\n",
              "      filter: drop-shadow(0px 1px 2px rgba(0, 0, 0, 0.3));\n",
              "      fill: #FFFFFF;\n",
              "    }\n",
              "  </style>\n",
              "\n",
              "    <script>\n",
              "      const buttonEl =\n",
              "        document.querySelector('#df-4fe5ed95-a5e1-4825-a5b8-810e2d693171 button.colab-df-convert');\n",
              "      buttonEl.style.display =\n",
              "        google.colab.kernel.accessAllowed ? 'block' : 'none';\n",
              "\n",
              "      async function convertToInteractive(key) {\n",
              "        const element = document.querySelector('#df-4fe5ed95-a5e1-4825-a5b8-810e2d693171');\n",
              "        const dataTable =\n",
              "          await google.colab.kernel.invokeFunction('convertToInteractive',\n",
              "                                                    [key], {});\n",
              "        if (!dataTable) return;\n",
              "\n",
              "        const docLinkHtml = 'Like what you see? Visit the ' +\n",
              "          '<a target=\"_blank\" href=https://colab.research.google.com/notebooks/data_table.ipynb>data table notebook</a>'\n",
              "          + ' to learn more about interactive tables.';\n",
              "        element.innerHTML = '';\n",
              "        dataTable['output_type'] = 'display_data';\n",
              "        await google.colab.output.renderOutput(dataTable, element);\n",
              "        const docLink = document.createElement('div');\n",
              "        docLink.innerHTML = docLinkHtml;\n",
              "        element.appendChild(docLink);\n",
              "      }\n",
              "    </script>\n",
              "  </div>\n",
              "\n",
              "\n",
              "<div id=\"df-db719c7e-4c8e-479a-9e32-1e4f021344e8\">\n",
              "  <button class=\"colab-df-quickchart\" onclick=\"quickchart('df-db719c7e-4c8e-479a-9e32-1e4f021344e8')\"\n",
              "            title=\"Suggest charts.\"\n",
              "            style=\"display:none;\">\n",
              "\n",
              "<svg xmlns=\"http://www.w3.org/2000/svg\" height=\"24px\"viewBox=\"0 0 24 24\"\n",
              "     width=\"24px\">\n",
              "    <g>\n",
              "        <path d=\"M19 3H5c-1.1 0-2 .9-2 2v14c0 1.1.9 2 2 2h14c1.1 0 2-.9 2-2V5c0-1.1-.9-2-2-2zM9 17H7v-7h2v7zm4 0h-2V7h2v10zm4 0h-2v-4h2v4z\"/>\n",
              "    </g>\n",
              "</svg>\n",
              "  </button>\n",
              "\n",
              "<style>\n",
              "  .colab-df-quickchart {\n",
              "      --bg-color: #E8F0FE;\n",
              "      --fill-color: #1967D2;\n",
              "      --hover-bg-color: #E2EBFA;\n",
              "      --hover-fill-color: #174EA6;\n",
              "      --disabled-fill-color: #AAA;\n",
              "      --disabled-bg-color: #DDD;\n",
              "  }\n",
              "\n",
              "  [theme=dark] .colab-df-quickchart {\n",
              "      --bg-color: #3B4455;\n",
              "      --fill-color: #D2E3FC;\n",
              "      --hover-bg-color: #434B5C;\n",
              "      --hover-fill-color: #FFFFFF;\n",
              "      --disabled-bg-color: #3B4455;\n",
              "      --disabled-fill-color: #666;\n",
              "  }\n",
              "\n",
              "  .colab-df-quickchart {\n",
              "    background-color: var(--bg-color);\n",
              "    border: none;\n",
              "    border-radius: 50%;\n",
              "    cursor: pointer;\n",
              "    display: none;\n",
              "    fill: var(--fill-color);\n",
              "    height: 32px;\n",
              "    padding: 0;\n",
              "    width: 32px;\n",
              "  }\n",
              "\n",
              "  .colab-df-quickchart:hover {\n",
              "    background-color: var(--hover-bg-color);\n",
              "    box-shadow: 0 1px 2px rgba(60, 64, 67, 0.3), 0 1px 3px 1px rgba(60, 64, 67, 0.15);\n",
              "    fill: var(--button-hover-fill-color);\n",
              "  }\n",
              "\n",
              "  .colab-df-quickchart-complete:disabled,\n",
              "  .colab-df-quickchart-complete:disabled:hover {\n",
              "    background-color: var(--disabled-bg-color);\n",
              "    fill: var(--disabled-fill-color);\n",
              "    box-shadow: none;\n",
              "  }\n",
              "\n",
              "  .colab-df-spinner {\n",
              "    border: 2px solid var(--fill-color);\n",
              "    border-color: transparent;\n",
              "    border-bottom-color: var(--fill-color);\n",
              "    animation:\n",
              "      spin 1s steps(1) infinite;\n",
              "  }\n",
              "\n",
              "  @keyframes spin {\n",
              "    0% {\n",
              "      border-color: transparent;\n",
              "      border-bottom-color: var(--fill-color);\n",
              "      border-left-color: var(--fill-color);\n",
              "    }\n",
              "    20% {\n",
              "      border-color: transparent;\n",
              "      border-left-color: var(--fill-color);\n",
              "      border-top-color: var(--fill-color);\n",
              "    }\n",
              "    30% {\n",
              "      border-color: transparent;\n",
              "      border-left-color: var(--fill-color);\n",
              "      border-top-color: var(--fill-color);\n",
              "      border-right-color: var(--fill-color);\n",
              "    }\n",
              "    40% {\n",
              "      border-color: transparent;\n",
              "      border-right-color: var(--fill-color);\n",
              "      border-top-color: var(--fill-color);\n",
              "    }\n",
              "    60% {\n",
              "      border-color: transparent;\n",
              "      border-right-color: var(--fill-color);\n",
              "    }\n",
              "    80% {\n",
              "      border-color: transparent;\n",
              "      border-right-color: var(--fill-color);\n",
              "      border-bottom-color: var(--fill-color);\n",
              "    }\n",
              "    90% {\n",
              "      border-color: transparent;\n",
              "      border-bottom-color: var(--fill-color);\n",
              "    }\n",
              "  }\n",
              "</style>\n",
              "\n",
              "  <script>\n",
              "    async function quickchart(key) {\n",
              "      const quickchartButtonEl =\n",
              "        document.querySelector('#' + key + ' button');\n",
              "      quickchartButtonEl.disabled = true;  // To prevent multiple clicks.\n",
              "      quickchartButtonEl.classList.add('colab-df-spinner');\n",
              "      try {\n",
              "        const charts = await google.colab.kernel.invokeFunction(\n",
              "            'suggestCharts', [key], {});\n",
              "      } catch (error) {\n",
              "        console.error('Error during call to suggestCharts:', error);\n",
              "      }\n",
              "      quickchartButtonEl.classList.remove('colab-df-spinner');\n",
              "      quickchartButtonEl.classList.add('colab-df-quickchart-complete');\n",
              "    }\n",
              "    (() => {\n",
              "      let quickchartButtonEl =\n",
              "        document.querySelector('#df-db719c7e-4c8e-479a-9e32-1e4f021344e8 button');\n",
              "      quickchartButtonEl.style.display =\n",
              "        google.colab.kernel.accessAllowed ? 'block' : 'none';\n",
              "    })();\n",
              "  </script>\n",
              "</div>\n",
              "    </div>\n",
              "  </div>\n"
            ]
          },
          "metadata": {},
          "execution_count": 5
        }
      ],
      "source": [
        "train_df.head()"
      ]
    },
    {
      "cell_type": "markdown",
      "source": [
        "## Data Preparation:\n",
        "This code extracts labels ('label' column) from the data, deletes the 'label' column from the DataFrames, and converts the remaining data to NumPy arrays."
      ],
      "metadata": {
        "id": "VvxMcmvmpSfN"
      }
    },
    {
      "cell_type": "markdown",
      "metadata": {
        "id": "c5GicQwIFPeA"
      },
      "source": [
        "### Import Images"
      ]
    },
    {
      "cell_type": "code",
      "execution_count": 6,
      "metadata": {
        "id": "eC4IK9bSFPeB"
      },
      "outputs": [],
      "source": [
        "#Extract labels and features\n",
        "y_train = np.array(train_df['label'])\n",
        "y_val = np.array(valid_df['label'])\n",
        "del train_df['label']\n",
        "del valid_df['label']\n",
        "x_train = train_df.values.astype(np.float32)\n",
        "x_val = valid_df.values.astype(np.float32)"
      ]
    },
    {
      "cell_type": "markdown",
      "source": [
        "### Splitting Validation and Test Data:\n",
        "This function split_val_test is defined to split the validation data into validation and test sets. It takes a percentage (pct) as an argument for the test set size."
      ],
      "metadata": {
        "id": "8s0tq9Z4phNJ"
      }
    },
    {
      "cell_type": "code",
      "execution_count": 7,
      "metadata": {
        "code_folding": [],
        "id": "JeXicc68FPeB"
      },
      "outputs": [],
      "source": [
        "def split_val_test(x, y, pct=0.5, shuffle=True):\n",
        "    '''\n",
        "    Split the dataset into validation and test sets.\n",
        "\n",
        "    Args:\n",
        "    - x: Input data.\n",
        "    - y: Labels.\n",
        "    - pct: Percentage of data to allocate to the validation set.\n",
        "    - shuffle: Whether to shuffle the data (default is True).\n",
        "\n",
        "    Returns:\n",
        "    - x_val: Validation data.\n",
        "    - y_val: Validation labels.\n",
        "    - x_test: Test data.\n",
        "    - y_test: Test labels.\n",
        "    '''\n",
        "    num_samples = len(x)\n",
        "    num_test_samples = int(pct * num_samples)\n",
        "\n",
        "    # Optionally shuffle the data before splitting.\n",
        "    if shuffle:\n",
        "        index = np.arange(num_samples)\n",
        "        np.random.shuffle(index)\n",
        "        x = x[index]\n",
        "        y = y[index]\n",
        "\n",
        "    # Split the data into validation and test sets.\n",
        "    x_val = x[:num_test_samples]\n",
        "    y_val = y[:num_test_samples]\n",
        "    x_test = x[num_test_samples:]\n",
        "    y_test = y[num_test_samples:]\n",
        "\n",
        "    return x_val, y_val, x_test, y_test"
      ]
    },
    {
      "cell_type": "code",
      "execution_count": 8,
      "metadata": {
        "id": "XRkUR_HmFPeB"
      },
      "outputs": [],
      "source": [
        "#Split the validation set into validation and test sets\n",
        "x_val, y_val, x_test, y_test = split_val_test(x_val, y_val)"
      ]
    },
    {
      "cell_type": "code",
      "execution_count": 9,
      "metadata": {
        "id": "KShLQ7ooFPeC",
        "colab": {
          "base_uri": "https://localhost:8080/",
          "height": 0
        },
        "outputId": "fe59c89b-f18d-473c-c8c6-be7b732dc210"
      },
      "outputs": [
        {
          "output_type": "stream",
          "name": "stdout",
          "text": [
            "24\n"
          ]
        }
      ],
      "source": [
        "### The following\n",
        "\n",
        "alphabet=list(string.ascii_lowercase)\n",
        "alphabet.remove('j')\n",
        "alphabet.remove('z')\n",
        "print(len(alphabet))"
      ]
    },
    {
      "cell_type": "markdown",
      "metadata": {
        "id": "KU2oFiPjFPeC"
      },
      "source": [
        "### Normalise\n",
        "This code calculates mean and standard deviation for the training data and then normalizes the training, validation, and test data based on these statistics."
      ]
    },
    {
      "cell_type": "code",
      "source": [
        "def normalise(x_mean, x_std, x_data):\n",
        "    return (x_data - x_mean) / x_std"
      ],
      "metadata": {
        "id": "pj5qSPMFyKmJ"
      },
      "execution_count": 10,
      "outputs": []
    },
    {
      "cell_type": "code",
      "source": [
        "x_mean = x_train.mean()\n",
        "x_std = x_train.std()\n",
        "\n",
        "x_train = normalise(x_mean, x_std, x_train)\n",
        "x_val = normalise(x_mean, x_std, x_val)\n",
        "x_test = normalise(x_mean, x_std, x_test)"
      ],
      "metadata": {
        "id": "f--koQUPyM5N"
      },
      "execution_count": 11,
      "outputs": []
    },
    {
      "cell_type": "code",
      "source": [
        "x_train.mean(), x_train.std()"
      ],
      "metadata": {
        "colab": {
          "base_uri": "https://localhost:8080/",
          "height": 0
        },
        "id": "unU5g3F1yMvU",
        "outputId": "b6bf3a0b-1f40-44fd-bb61-202c8b9e23f2"
      },
      "execution_count": 12,
      "outputs": [
        {
          "output_type": "execute_result",
          "data": {
            "text/plain": [
              "(3.6268384e-06, 0.99999946)"
            ]
          },
          "metadata": {},
          "execution_count": 12
        }
      ]
    },
    {
      "cell_type": "code",
      "source": [
        "x_val.mean(), x_val.std()"
      ],
      "metadata": {
        "colab": {
          "base_uri": "https://localhost:8080/",
          "height": 0
        },
        "id": "X_SsV07vyVtl",
        "outputId": "7b294627-800b-4227-e29c-42a4d86d8659"
      },
      "execution_count": 13,
      "outputs": [
        {
          "output_type": "execute_result",
          "data": {
            "text/plain": [
              "(0.018859891, 1.0040632)"
            ]
          },
          "metadata": {},
          "execution_count": 13
        }
      ]
    },
    {
      "cell_type": "code",
      "source": [
        "x_test.mean(), x_test.std()"
      ],
      "metadata": {
        "colab": {
          "base_uri": "https://localhost:8080/",
          "height": 0
        },
        "id": "NFv4mzttyYyM",
        "outputId": "da4d5967-725e-4625-e27e-ffda6eabb73f"
      },
      "execution_count": 14,
      "outputs": [
        {
          "output_type": "execute_result",
          "data": {
            "text/plain": [
              "(0.033644557, 1.0070765)"
            ]
          },
          "metadata": {},
          "execution_count": 14
        }
      ]
    },
    {
      "cell_type": "markdown",
      "metadata": {
        "id": "baEdU3wzFPeC"
      },
      "source": [
        "### Plotting a Sample Image:\n",
        "This function plot_number is defined to plot a single image from the dataset. It reshapes the image and displays it using matplotlib."
      ]
    },
    {
      "cell_type": "code",
      "source": [
        "def plot_number(image):\n",
        "    plt.figure(figsize=(5,5))\n",
        "    image = image.reshape((28, 28))\n",
        "    plt.imshow(image.squeeze(), cmap=plt.get_cmap('gray'))\n",
        "    plt.axis('off')\n",
        "    plt.show()"
      ],
      "metadata": {
        "id": "KnnMx4JdzHDB"
      },
      "execution_count": 15,
      "outputs": []
    },
    {
      "cell_type": "markdown",
      "source": [
        "### Random Image and Prediction:\n",
        "It selects a random index from the test set, plots the corresponding image, and makes a prediction using the trained model."
      ],
      "metadata": {
        "id": "drxdFvKVrSce"
      }
    },
    {
      "cell_type": "code",
      "source": [
        "rnd_idx = np.random.randint(len(y_test))\n",
        "print(f'The sample image represents a: {y_test[rnd_idx]}')\n",
        "plot_number(x_test[rnd_idx])"
      ],
      "metadata": {
        "colab": {
          "base_uri": "https://localhost:8080/",
          "height": 439
        },
        "id": "r_03tMSbzJFP",
        "outputId": "772b7539-f2dd-41e4-a0c7-48951034e879"
      },
      "execution_count": 16,
      "outputs": [
        {
          "output_type": "stream",
          "name": "stdout",
          "text": [
            "The sample image represents a: 20\n"
          ]
        },
        {
          "output_type": "display_data",
          "data": {
            "text/plain": [
              "<Figure size 500x500 with 1 Axes>"
            ],
            "image/png": "[encoded data removed]"
          },
          "metadata": {}
        }
      ]
    },
    {
      "cell_type": "markdown",
      "metadata": {
        "id": "ce7hwVVuFPeC"
      },
      "source": [
        "###Equations for Our Model\n",
        "\n",
        "\n",
        "$$z^1 = W^1 X + b^1$$\n",
        "\n",
        "$$a^1 = ReLU(z^1) $$\n",
        "\n",
        "$$z^2 = W^2 a^1 + b^2$$\n",
        "\n",
        "$$\\hat{y} = \\frac{e^{z^{2_k}}}{\\sum_j{e^{z_j}}}$$\n",
        "\n",
        "\n",
        "$$ \\mathcal{L}(\\hat{y}^{i}, y^{i}) =  - y^{i}  \\ln(\\hat{y}^{i}) = -\\ln(\\hat{y}^i)$$\n",
        "\n",
        "\n",
        "$$ \\mathcal{J}(w, b) =  \\frac{1}{num\\_samples} \\sum_{i=1}^{num\\_samples}-\\ln(\\hat{y}^{i})$$"
      ]
    },
    {
      "cell_type": "markdown",
      "source": [
        "####$z^1 = W^1 X + b^1$: Linear transformation of input data.\n",
        "\n",
        "$z^1$ is the output of the first layer of neurons, calculated by multiplying the input data $X$ by weights $W^1$ and adding biases $b^1$."
      ],
      "metadata": {
        "id": "jTYp26ZQ4aGu"
      }
    },
    {
      "cell_type": "markdown",
      "source": [
        "####$a^1 = ReLU(z^1)$: Applying the Rectified Linear Unit (ReLU) activation function.\n",
        "\n",
        "$a^1$ is the output of the first layer after applying an activation function called ReLU (Rectified Linear Unit) to $z^1$. ReLU introduces non-linearity into the model, allowing some neurons to activate (take values different from zero) while others don't."
      ],
      "metadata": {
        "id": "hLUhzn2u4uXt"
      }
    },
    {
      "cell_type": "markdown",
      "source": [
        "####$z^2 = W^2 a^1 + b^2$: linear transformation.\n",
        "\n",
        "$z^2$ is the output of the second layer of neurons, taking the output $a^1$ of the first layer as input. Similar to the first layer, it's calculated by multiplying by weights $W^2$ and adding biases $b^2$."
      ],
      "metadata": {
        "id": "1Q4p64LL4529"
      }
    },
    {
      "cell_type": "markdown",
      "source": [
        "####$\\hat{y} = \\frac{e^{z^{2_k}}}{\\sum_j{e^{z_j}}}$: Softmax function for probability distribution.\n",
        "\n",
        "$\\hat{y}$ represents the model's predictions. It's calculated using a function called Softmax, which takes the outputs $z^2$ and computes the probability that the input data belongs to each of the classes. In other words, it calculates the probability distribution over the classes."
      ],
      "metadata": {
        "id": "xlMxW3qW4_Pw"
      }
    },
    {
      "cell_type": "markdown",
      "source": [
        "####$\\mathcal{L}(\\hat{y}^{i}, y^{i}) = - y^{i} \\ln(\\hat{y}^{i}) = -\\ln(\\hat{y}^i)$: Cross-entropy loss.\n",
        "\n",
        "This equation represents the loss function, which measures how well the predictions align with the actual values. In this case, Categorical Cross-Entropy is used as the loss function. The idea is to penalize incorrect predictions and reward correct ones"
      ],
      "metadata": {
        "id": "AErCrt6N5FOT"
      }
    },
    {
      "cell_type": "markdown",
      "source": [
        "####$\\mathcal{J}(w, b) = \\frac{1}{num_samples} \\sum_{i=1}^{num_samples}-\\ln(\\hat{y}^{i})$: Overall cost.\n",
        "\n",
        "$\\mathcal{J}(w, b)$ is the cost function, which is the average of the loss over the entire dataset. The goal during model training is to minimize this cost function by adjusting the weights ($w$) and biases ($b$) of the layers."
      ],
      "metadata": {
        "id": "_dn-Aexn5LdL"
      }
    },
    {
      "cell_type": "markdown",
      "metadata": {
        "id": "dpwZippiFPeD"
      },
      "source": [
        "#### Mini batches"
      ]
    },
    {
      "cell_type": "code",
      "execution_count": 17,
      "metadata": {
        "id": "4LFUBN_zFPeD"
      },
      "outputs": [],
      "source": [
        "def create_minibatches(mb_size, x, y, shuffle=True):\n",
        "    '''\n",
        "    Create mini-batches from a dataset.\n",
        "\n",
        "    Parameters:\n",
        "    - mb_size: Mini-batch size (number of samples per mini-batch).\n",
        "    - x: Input data (samples), shape (num_samples, num_features).\n",
        "    - y: Corresponding labels, shape (num_samples,).\n",
        "    - shuffle: Whether to shuffle the data before creating mini-batches (default is True).\n",
        "\n",
        "    Returns:\n",
        "    - Generator that yields mini-batches of data and labels as tuples.\n",
        "    '''\n",
        "    assert x.shape[0] == y.shape[0], 'Number of samples in x and y must match.'\n",
        "    total_data = x.shape[0]\n",
        "    assert mb_size > 0 and (mb_size & (mb_size - 1)) == 0, 'Mini-batch size must be a power of 2.'\n",
        "\n",
        "    if shuffle:\n",
        "        idxs = np.arange(total_data)\n",
        "        np.random.shuffle(idxs)\n",
        "        x = x[idxs]\n",
        "        y = y[idxs]\n",
        "\n",
        "    return ((x[i:i + mb_size], y[i:i + mb_size]) for i in range(0, total_data, mb_size))"
      ]
    },
    {
      "cell_type": "markdown",
      "metadata": {
        "id": "-IQdnIi1FPeE"
      },
      "source": [
        "### Definition of Linear, ReLU, and Sequential Layers:\n",
        "These classes are defined to create a simple neural network model."
      ]
    },
    {
      "cell_type": "code",
      "source": [
        "class np_tensor(np.ndarray):\n",
        "    '''Custom NumPy array subclass for tensors.'''\n",
        "    pass"
      ],
      "metadata": {
        "id": "h5leMhC35eRz"
      },
      "execution_count": 18,
      "outputs": []
    },
    {
      "cell_type": "markdown",
      "metadata": {
        "id": "xxcTAQ-WFPeE"
      },
      "source": [
        "###  The Linear class initializes\n",
        "the parameters (weights and biases) using the Kaiming He initialization method. It also defines the forward and backward (gradient computation) operations for a linear layer."
      ]
    },
    {
      "cell_type": "code",
      "source": [
        "class Linear():\n",
        "    def __init__(self, input_size, output_size):\n",
        "        '''\n",
        "        Initialize parameters using Kaiming He\n",
        "        '''\n",
        "        self.W = (np.random.randn(output_size, input_size) / np.sqrt(input_size/2)).view(np_tensor)\n",
        "        self.b = (np.zeros((output_size, 1))).view(np_tensor)\n",
        "\n",
        "    def __call__(self, X): # This is the forward method of the Linear class.\n",
        "        Z = self.W @ X + self.b\n",
        "        return Z\n",
        "\n",
        "    def backward(self, X, Z):\n",
        "        X.grad = self.W.T @ Z.grad\n",
        "        self.W.grad = Z.grad @ X.T\n",
        "        self.b.grad = np.sum(Z.grad, axis = 1, keepdims=True)"
      ],
      "metadata": {
        "id": "NGtX3iU85a-M"
      },
      "execution_count": 19,
      "outputs": []
    },
    {
      "cell_type": "markdown",
      "metadata": {
        "id": "G41IkHzlFPeE"
      },
      "source": [
        "### Definition of ReLU Layer:\n",
        "The ReLU class defines the ReLU activation function and its backward operation to compute gradients."
      ]
    },
    {
      "cell_type": "code",
      "source": [
        "class ReLU():\n",
        "    def __call__(self, Z):\n",
        "        # ReLU activation: Set negative values to zero.\n",
        "        return np.maximum(0, Z)\n",
        "\n",
        "    def backward(self, Z, A):\n",
        "        # Backward pass for ReLU: Propagate gradients where input was positive.\n",
        "        Z.grad = A.grad.copy()\n",
        "        Z.grad[Z <= 0] = 0"
      ],
      "metadata": {
        "id": "x5ta77pf5bs8"
      },
      "execution_count": 20,
      "outputs": []
    },
    {
      "cell_type": "markdown",
      "metadata": {
        "id": "RBgtloLOFPeE"
      },
      "source": [
        "### Definition of Sequential Layer:\n",
        "The Sequential_layers class is used to create a sequential stack of linear and ReLU layers. It tracks intermediate outputs and defines forward, backward, and update operations."
      ]
    },
    {
      "cell_type": "code",
      "source": [
        "class Sequential_layers():\n",
        "    def __init__(self, layers):\n",
        "        '''\n",
        "        Initialize a sequential neural network with a list of layers.\n",
        "\n",
        "        Args:\n",
        "        - layers: List containing objects of type Linear and ReLU.\n",
        "        '''\n",
        "        self.layers = layers\n",
        "        self.x = None\n",
        "        self.outputs = {}\n",
        "\n",
        "    def __call__(self, X):\n",
        "        '''\n",
        "        Perform a forward pass through the network.\n",
        "\n",
        "        Args:\n",
        "        - X: Input data.\n",
        "\n",
        "        Returns:\n",
        "        - Output of the network after the forward pass.\n",
        "        '''\n",
        "        self.x = X\n",
        "        self.outputs['l0'] = self.x\n",
        "        for i, layer in enumerate(self.layers, 1):\n",
        "            self.x = layer(self.x)\n",
        "            self.outputs['l' + str(i)] = self.x\n",
        "        return self.x\n",
        "\n",
        "    def backward(self):\n",
        "        '''\n",
        "        Perform a backward pass through the network to compute gradients.\n",
        "        '''\n",
        "        for i in reversed(range(len(self.layers))):\n",
        "            self.layers[i].backward(self.outputs['l' + str(i)], self.outputs['l' + str(i + 1)])\n",
        "\n",
        "    def update(self, learning_rate=1e-4):\n",
        "        '''\n",
        "        Update network parameters using gradient descent.\n",
        "\n",
        "        Args:\n",
        "        - learning_rate: Learning rate for gradient descent.\n",
        "        '''\n",
        "        for layer in self.layers:\n",
        "            if isinstance(layer, ReLU):\n",
        "                continue\n",
        "            layer.W = layer.W - learning_rate * layer.W.grad\n",
        "            layer.b = layer.b - learning_rate * layer.b.grad\n",
        "\n",
        "    def predict(self, X):\n",
        "        '''\n",
        "        Make predictions on new data.\n",
        "\n",
        "        Args:\n",
        "        - X: Input data for predictions.\n",
        "\n",
        "        Returns:\n",
        "        - Predicted class label.\n",
        "        '''\n",
        "        return np.argmax(self.__call__(X))"
      ],
      "metadata": {
        "id": "uJ7_1CQy5qCs"
      },
      "execution_count": 21,
      "outputs": []
    },
    {
      "cell_type": "markdown",
      "metadata": {
        "id": "rG8XBrbbFPeE"
      },
      "source": [
        "### Definition of Cost Function (Softmax Cross-Entropy):\n",
        "The softmaxXEntropy function computes the softmax probabilities, calculates the cross-entropy loss, and computes gradients."
      ]
    },
    {
      "cell_type": "code",
      "source": [
        "def softmaxXEntropy(x, y):\n",
        "    batch_size = x.shape[1]\n",
        "    #Exponentials of input values\n",
        "    exp_scores = np.exp(x)\n",
        "\n",
        "    #Calculate softmax probabilities\n",
        "    probs = exp_scores / exp_scores.sum(axis = 0)\n",
        "\n",
        "    #Make a copy of predicted probabilities\n",
        "    preds = probs.copy()\n",
        "\n",
        "    # Cost\n",
        "    y_hat = probs[y.squeeze(), np.arange(batch_size)]\n",
        "    cost = np.sum(-np.log(y_hat)) / batch_size\n",
        "\n",
        "    # Gradients\n",
        "    probs[y.squeeze(), np.arange(batch_size)] -= 1 #dl/dx\n",
        "    x.grad = probs.copy()\n",
        "\n",
        "    return preds, cost"
      ],
      "metadata": {
        "id": "GcPTqcH25uVr"
      },
      "execution_count": 22,
      "outputs": []
    },
    {
      "cell_type": "markdown",
      "metadata": {
        "id": "PcYK8pghFPeF"
      },
      "source": [
        "### Training Loop:\n",
        "The train function trains the neural network model. It iterates over mini-batches of training data, computes the cost, performs backpropagation, and updates the model's parameters."
      ]
    },
    {
      "cell_type": "markdown",
      "metadata": {
        "id": "CX-3p6w-FPeF"
      },
      "source": [
        "### Create your model and train it"
      ]
    },
    {
      "cell_type": "code",
      "execution_count": 23,
      "metadata": {
        "id": "nEFMejpoFPeF"
      },
      "outputs": [],
      "source": [
        "def train(model, epochs, mb_size=128, learning_rate=1e-3):\n",
        "    '''\n",
        "    Train the neural network model.\n",
        "\n",
        "    Args:\n",
        "    - model: The neural network model to be trained.\n",
        "    - epochs: Number of training epochs.\n",
        "    - mb_size: Mini-batch size.\n",
        "    - learning_rate: Learning rate for gradient descent.\n",
        "    '''\n",
        "    for epoch in range(epochs):\n",
        "        for i, (x, y) in enumerate(create_minibatches(mb_size, x_train, y_train)):\n",
        "            # Forward pass and compute cost\n",
        "            scores = model(x.T.view(np_tensor))\n",
        "            _, cost = softmaxXEntropy(scores, y)\n",
        "\n",
        "            # Backpropagation\n",
        "            model.backward()\n",
        "\n",
        "            # Update model parameters\n",
        "            model.update(learning_rate)\n",
        "\n",
        "        # Print cost and validation accuracy\n",
        "        print(f'Cost: {cost}, Accuracy: {accuracy(x_val, y_val, mb_size)}')"
      ]
    },
    {
      "cell_type": "markdown",
      "source": [
        "###Accuracy Calculation:\n",
        "The accuracy function computes the accuracy of the model on a given dataset."
      ],
      "metadata": {
        "id": "wMV82swisayK"
      }
    },
    {
      "cell_type": "code",
      "source": [
        "def accuracy(x, y, mb_size):\n",
        "    #initialize the count of correct predictions\n",
        "    correct = 0\n",
        "    #initialize the count of total predictions\n",
        "    total = 0\n",
        "    for i, (x, y) in enumerate(create_minibatches(mb_size, x, y)):\n",
        "        #Get model predictions\n",
        "        pred = model(x.T.view(np_tensor))\n",
        "\n",
        "        #count correct predictions in the batch\n",
        "        correct += np.sum(np.argmax(pred, axis=0) == y.squeeze())\n",
        "\n",
        "        #update the total count of the predictions\n",
        "        total += pred.shape[1]\n",
        "\n",
        "    #calculate and return accuracy\n",
        "    return correct/total"
      ],
      "metadata": {
        "id": "jEKpBNKU2mYZ"
      },
      "execution_count": 24,
      "outputs": []
    },
    {
      "cell_type": "markdown",
      "source": [
        "## Model Definition: Architecture and Hyperparameter Justification"
      ],
      "metadata": {
        "id": "vcZz-ogF_p4V"
      }
    },
    {
      "cell_type": "markdown",
      "source": [
        "### Model Architecture\n",
        "\n",
        "The chosen model architecture consists of a feedforward neural network with multiple hidden layers. Here's the rationale behind this architecture:\n",
        "\n",
        "- **Input Layer**: The input layer has 784 units, which corresponds to the flattened size of the 28x28 pixel ASL images. Each unit represents a pixel value.\n",
        "\n",
        "- **Hidden Layers with ReLU Activation**: We include three hidden layers, each with 500 units followed by a Rectified Linear Unit (ReLU) activation function. ReLU is chosen because it helps the network learn complex, nonlinear relationships in the data.\n",
        "\n",
        "- **Output Layer**: The output layer has 24 units, corresponding to the 24 different ASL hand signs we aim to classify. The final layer doesn't have an activation function because we use softmax in the loss function to obtain class probabilities."
      ],
      "metadata": {
        "id": "vxCPfEaW8GYM"
      }
    },
    {
      "cell_type": "code",
      "source": [
        "# Create a sequential neural network model with specified layers\n",
        "model = Sequential_layers([\n",
        "    Linear(784, 500), ReLU(),\n",
        "    Linear(500, 500), ReLU(),\n",
        "    Linear(500, 500), ReLU(),\n",
        "    Linear(500, 24)\n",
        "])\n",
        "\n",
        "# Set mini-batch size, learning rate, and number of epochs\n",
        "mb_size = 128\n",
        "learning_rate =  1e-3\n",
        "epochs = 50"
      ],
      "metadata": {
        "id": "hDFSzoukZx0E"
      },
      "execution_count": 25,
      "outputs": []
    },
    {
      "cell_type": "markdown",
      "source": [
        "### Hyperparameter Choices\n",
        "\n",
        "Here are the justifications for the selected hyperparameters:\n",
        "\n",
        "- **Mini-Batch Size (mb_size)**: We chose a mini-batch size of 128. A mini-batch size balances computational efficiency and model convergence. Smaller batch sizes introduce more noise but can lead to faster convergence, while larger batch sizes are more stable but require more memory. A size of 128 is a common choice and has worked well in practice.\n",
        "\n",
        "- **Learning Rate (learning_rate)**: We set the learning rate to 1e-3. The learning rate controls the step size during gradient descent. We chose this value based on empirical testing and found it to be suitable for our model and dataset. It strikes a good balance between fast convergence and stability.\n",
        "\n",
        "- **Number of Epochs (epochs)**: We trained the model for 50 epochs. This number of epochs is chosen after observing the training and validation accuracy curves. We selected a value that allows the model to converge while avoiding overfitting.\n",
        "\n",
        "- **Hidden Layer Size (500 Units)**: The choice of 500 units for each hidden layer is somewhat arbitrary but has been found to work well for image classification tasks in practice. It provides sufficient capacity for the model to learn complex features from the ASL images."
      ],
      "metadata": {
        "id": "cB0Ij4Fy8aOr"
      }
    },
    {
      "cell_type": "markdown",
      "source": [
        "These choices were made based on experimentation and general best practices in deep learning. Further hyperparameter tuning and architecture exploration can be conducted to potentially improve model performance, but the selected values provide a reasonable starting point for ASL hand sign classification."
      ],
      "metadata": {
        "id": "4OzVaeBO8lu2"
      }
    },
    {
      "cell_type": "markdown",
      "source": [
        "## Training"
      ],
      "metadata": {
        "id": "5UbXMkYS_yqU"
      }
    },
    {
      "cell_type": "code",
      "source": [
        "train(model, epochs, mb_size, learning_rate)"
      ],
      "metadata": {
        "colab": {
          "base_uri": "https://localhost:8080/",
          "height": 0
        },
        "id": "BVu69b2GD69u",
        "outputId": "d511f3fd-7cf3-4fbb-cf7c-12877220afbb"
      },
      "execution_count": 26,
      "outputs": [
        {
          "output_type": "stream",
          "name": "stdout",
          "text": [
            "Cost: 0.01692972401637897, Accuracy: 0.7824874511991077\n",
            "Cost: 0.0033590298529168235, Accuracy: 0.7933630786391522\n",
            "Cost: 0.0028704216355204064, Accuracy: 0.7969882877858337\n",
            "Cost: 0.0027720686005117943, Accuracy: 0.8034021193530396\n",
            "Cost: 0.002582530737440621, Accuracy: 0.8020078081427775\n",
            "Cost: 0.0016712699446460684, Accuracy: 0.8025655326268823\n",
            "Cost: 0.0010403546820096025, Accuracy: 0.805633017289459\n",
            "Cost: 0.000855896654565472, Accuracy: 0.805633017289459\n",
            "Cost: 0.0009547227668775713, Accuracy: 0.805633017289459\n",
            "Cost: 0.0007043353234120813, Accuracy: 0.8053541550474066\n",
            "Cost: 0.0005355956808921594, Accuracy: 0.8045175683212493\n",
            "Cost: 0.0006936910437031005, Accuracy: 0.8059118795315114\n",
            "Cost: 0.00046838525588794753, Accuracy: 0.8050752928053542\n",
            "Cost: 0.0007667074040600427, Accuracy: 0.8050752928053542\n",
            "Cost: 0.0006084618135916986, Accuracy: 0.8050752928053542\n",
            "Cost: 0.0005204270460551899, Accuracy: 0.8039598438371445\n",
            "Cost: 0.00047504971171729487, Accuracy: 0.8047964305633017\n",
            "Cost: 0.00034577087042051715, Accuracy: 0.8034021193530396\n",
            "Cost: 0.0003534815127084676, Accuracy: 0.8034021193530396\n",
            "Cost: 0.00043398771040956374, Accuracy: 0.803680981595092\n",
            "Cost: 0.00021920974186972773, Accuracy: 0.8053541550474066\n",
            "Cost: 0.0003763190238183183, Accuracy: 0.8053541550474066\n",
            "Cost: 0.0007143397722449802, Accuracy: 0.8059118795315114\n",
            "Cost: 0.0002524986254536249, Accuracy: 0.8050752928053542\n",
            "Cost: 0.00032282384050239394, Accuracy: 0.8061907417735639\n",
            "Cost: 0.00025029776503308654, Accuracy: 0.8050752928053542\n",
            "Cost: 0.0002586550013272041, Accuracy: 0.805633017289459\n",
            "Cost: 0.00018603992275158474, Accuracy: 0.8059118795315114\n",
            "Cost: 0.00034724697960830745, Accuracy: 0.8053541550474066\n",
            "Cost: 0.00028490339359316677, Accuracy: 0.8061907417735639\n",
            "Cost: 0.0001556903153418808, Accuracy: 0.8070273284997211\n",
            "Cost: 0.00041514089185704106, Accuracy: 0.8067484662576687\n",
            "Cost: 0.00022462247951714106, Accuracy: 0.8064696040156163\n",
            "Cost: 0.0001334935784706591, Accuracy: 0.8064696040156163\n",
            "Cost: 0.00014378201634749005, Accuracy: 0.8067484662576687\n",
            "Cost: 0.00012641508046654532, Accuracy: 0.8061907417735639\n",
            "Cost: 0.00014447736672884792, Accuracy: 0.8064696040156163\n",
            "Cost: 0.00015126555719753253, Accuracy: 0.8061907417735639\n",
            "Cost: 0.0001473949549720129, Accuracy: 0.8061907417735639\n",
            "Cost: 0.00025756475401878274, Accuracy: 0.8070273284997211\n",
            "Cost: 0.0001367887792621191, Accuracy: 0.8070273284997211\n",
            "Cost: 0.00012754333340976546, Accuracy: 0.8070273284997211\n",
            "Cost: 0.00013498933110271742, Accuracy: 0.8070273284997211\n",
            "Cost: 9.537741603310973e-05, Accuracy: 0.8073061907417736\n",
            "Cost: 0.00011938657250101888, Accuracy: 0.8073061907417736\n",
            "Cost: 0.0001275465059980644, Accuracy: 0.8073061907417736\n",
            "Cost: 0.00012678035400242278, Accuracy: 0.8070273284997211\n",
            "Cost: 0.00011243774198055765, Accuracy: 0.8073061907417736\n",
            "Cost: 0.0001436907865028927, Accuracy: 0.807585052983826\n",
            "Cost: 0.00011448965353413883, Accuracy: 0.8070273284997211\n"
          ]
        }
      ]
    },
    {
      "cell_type": "markdown",
      "source": [
        "### Testing the Model:\n",
        "A random image from the test set is plotted, and the model's prediction is displayed along with the actual label."
      ],
      "metadata": {
        "id": "75rbydIPsm7C"
      }
    },
    {
      "cell_type": "code",
      "execution_count": 27,
      "metadata": {
        "id": "z5vyfP9sFPeF",
        "colab": {
          "base_uri": "https://localhost:8080/",
          "height": 439
        },
        "outputId": "c3b0bc89-757b-4bd6-cafb-7f9e48102c32"
      },
      "outputs": [
        {
          "output_type": "display_data",
          "data": {
            "text/plain": [
              "<Figure size 500x500 with 1 Axes>"
            ],
            "image/png": "[encoded data removed]"
          },
          "metadata": {}
        },
        {
          "output_type": "stream",
          "name": "stdout",
          "text": [
            "The predicted value is: t The real value is:y\n"
          ]
        }
      ],
      "source": [
        "#Get a random index from the test set\n",
        "idx = np.random.randint(len(y_test))\n",
        "\n",
        "#Plot the image correspondind to the random index\n",
        "plot_number(x_test[idx].reshape(28,28))\n",
        "\n",
        "#Make a prediction using the model\n",
        "pred = model.predict(x_test[idx].reshape(-1, 1))\n",
        "\n",
        "#Print the predicted and actual values\n",
        "print(f'The predicted value is: {alphabet[pred]} The real value is:{alphabet[y_test[idx]]}')"
      ]
    },
    {
      "cell_type": "markdown",
      "source": [
        "##Results"
      ],
      "metadata": {
        "id": "aOSS7lWmGKhN"
      }
    },
    {
      "cell_type": "code",
      "execution_count": 28,
      "metadata": {
        "id": "OKbcZZP0FPeG",
        "colab": {
          "base_uri": "https://localhost:8080/",
          "height": 0
        },
        "outputId": "8c25f7c0-6725-4a8c-c0d2-bb6dab487bc4"
      },
      "outputs": [
        {
          "output_type": "stream",
          "name": "stdout",
          "text": [
            "Test Accuracy: 80.90%\n"
          ]
        }
      ],
      "source": [
        "# Calculate the accuracy on the test set\n",
        "test_accuracy = accuracy(x_test, y_test, mb_size)\n",
        "print(f'Test Accuracy: {test_accuracy * 100:.2f}%')"
      ]
    },
    {
      "cell_type": "code",
      "source": [
        "#Graph Accuracy during training\n",
        "\n",
        "# List of epochs\n",
        "epochs = list(range(1, 48))\n",
        "\n",
        "# Accuracy for the first training\n",
        "training_1_accuracy = [0.7875069715560513, 0.7941996653653095, 0.7981038367540436, 0.7992191857222533, 0.7997769102063581, 0.8011712214166202, 0.8006134969325154, 0.800334634690463, 0.8017289459007251, 0.7989403234802008, 0.8020078081427775, 0.8022866703848299, 0.800334634690463, 0.8020078081427775, 0.8022866703848299, 0.8020078081427775, 0.8017289459007251, 0.8031232571109872, 0.8020078081427775, 0.8017289459007251, 0.8022866703848299, 0.8020078081427775, 0.8034021193530396, 0.803680981595092, 0.8042387060791969, 0.8034021193530396, 0.8034021193530396, 0.8042387060791969, 0.803680981595092, 0.8034021193530396, 0.8045175683212493, 0.8025655326268823, 0.8039598438371445, 0.8042387060791969, 0.8047964305633017, 0.8042387060791969, 0.8045175683212493, 0.8045175683212493, 0.803680981595092, 0.8039598438371445, 0.8045175683212493, 0.8042387060791969, 0.8042387060791969, 0.8047964305633017, 0.8047964305633017, 0.8047964305633017, 0.8050752928053542, 0.8050752928053542, 0.8050752928053542, 0.8053541550474066]\n",
        "\n",
        "# Accuracy for the second training\n",
        "training_2_accuracy = [0.7875069715560513, 0.797824874511991, 0.8061907417735639, 0.8073061907417736, 0.8134411600669269, 0.8131622978248745, 0.8123257110987172, 0.8142777467930842, 0.8126045733407696, 0.8106525376464027, 0.8134411600669269, 0.8112102621305075, 0.8134411600669269, 0.8134411600669269, 0.8131622978248745, 0.8128834355828221, 0.8120468488566648, 0.8126045733407696, 0.8128834355828221, 0.8128834355828221, 0.8123257110987172, 0.8126045733407696, 0.8134411600669269, 0.8131622978248745, 0.8128834355828221, 0.8126045733407696, 0.8137200223089793, 0.8128834355828221, 0.8123257110987172, 0.8131622978248745, 0.8134411600669269, 0.8137200223089793, 0.8128834355828221, 0.8126045733407696, 0.8134411600669269, 0.8145566090351366, 0.8156720580033463, 0.8176240936977134, 0.8212493028443949, 0.8176240936977134, 0.8179029559397658, 0.8187395426659231, 0.8218070273284998, 0.8218070273284998, 0.8215281650864473, 0.8220858895705522, 0.8215281650864473]\n",
        "\n",
        "# Accuracy for the third training\n",
        "training_3_accuracy = [0.7914110429447853, 0.8017289459007251, 0.8145566090351366, 0.8142777467930842, 0.8123257110987172, 0.8139988845510318, 0.8142777467930842, 0.814835471277189, 0.8114891243725599, 0.8170663692136084, 0.8165086447295036, 0.8159509202453987, 0.8181818181818182, 0.8176240936977134, 0.8192972671500279, 0.8156720580033463, 0.8176240936977134, 0.8212493028443949, 0.8176240936977134, 0.8179029559397658, 0.8187395426659231, 0.8218070273284998, 0.8218070273284998, 0.8215281650864473, 0.8220858895705522, 0.8215281650864473, 0.8218070273284998, 0.8204127161182376, 0.8215281650864473, 0.8212493028443949, 0.8220858895705522, 0.8204127161182376, 0.8215281650864473, 0.8215281650864473, 0.822643614054657, 0.8204127161182376, 0.8215281650864473, 0.8212493028443949, 0.8212493028443949, 0.8215281650864473, 0.8209704406023425, 0.8212493028443949, 0.8212493028443949, 0.8215281650864473]\n",
        "\n",
        "# Adjust the training accuracy lists to have the same length as the shortest list (44 in this case)\n",
        "min_length = min(len(epochs), len(training_1_accuracy), len(training_2_accuracy), len(training_3_accuracy))\n",
        "\n",
        "training_1_accuracy = training_1_accuracy[:min_length]\n",
        "training_2_accuracy = training_2_accuracy[:min_length]\n",
        "training_3_accuracy = training_3_accuracy[:min_length]\n",
        "\n",
        "# Plot accuracy for all 4 trainings\n",
        "plt.plot(epochs[:min_length], training_1_accuracy, label='Training 1')\n",
        "plt.plot(epochs[:min_length], training_2_accuracy, label='Training 2')\n",
        "plt.plot(epochs[:min_length], training_3_accuracy, label='Training 3')\n",
        "\n",
        "plt.title('Accuracy During Training')\n",
        "plt.xlabel('Epochs')\n",
        "plt.ylabel('Accuracy')\n",
        "plt.legend()\n",
        "plt.grid(True)\n",
        "\n",
        "# Show the plot\n",
        "plt.show()"
      ],
      "metadata": {
        "colab": {
          "base_uri": "https://localhost:8080/",
          "height": 472
        },
        "id": "AlnBA14iVWFE",
        "outputId": "455eddb9-75e3-440f-9fc3-35794d2fe265"
      },
      "execution_count": 30,
      "outputs": [
        {
          "output_type": "display_data",
          "data": {
            "text/plain": [
              "<Figure size 640x480 with 1 Axes>"
            ],
            "image/png": "[encoded data removed]"
          },
          "metadata": {}
        }
      ]
    },
    {
      "cell_type": "code",
      "source": [
        "#Averaage accuracy duriing training for each traaining and in general\n",
        "\n",
        "# Calculate average accuracy across the three training sets for each epoch\n",
        "average_accuracy = [(t1 + t2 + t3) / 3 for t1, t2, t3 in zip(training_1_accuracy, training_2_accuracy, training_3_accuracy)]\n",
        "\n",
        "# Create a list of epochs to match the length of the accuracy lists\n",
        "epochs = list(range(1, len(average_accuracy) + 1))\n",
        "\n",
        "# Trim the training accuracy lists to match the length of average_accuracy\n",
        "training_1_accuracy = training_1_accuracy[:len(average_accuracy)]\n",
        "training_2_accuracy = training_2_accuracy[:len(average_accuracy)]\n",
        "training_3_accuracy = training_3_accuracy[:len(average_accuracy)]\n",
        "\n",
        "# Plot the average accuracy\n",
        "plt.plot(epochs, average_accuracy, label='Average Accuracy')\n",
        "\n",
        "# Plot the accuracy for each training\n",
        "plt.plot(epochs, training_1_accuracy, label='Training 1 Accuracy', linestyle='--')\n",
        "plt.plot(epochs, training_2_accuracy, label='Training 2 Accuracy', linestyle='--')\n",
        "plt.plot(epochs, training_3_accuracy, label='Training 3 Accuracy', linestyle='--')\n",
        "\n",
        "plt.title('Average Accuracy During Training')\n",
        "plt.xlabel('Epochs')\n",
        "plt.ylabel('Average Accuracy')\n",
        "plt.legend()\n",
        "plt.grid(True)\n",
        "\n",
        "# Show the plot\n",
        "plt.show()"
      ],
      "metadata": {
        "colab": {
          "base_uri": "https://localhost:8080/",
          "height": 472
        },
        "id": "10K-MxSQhm7O",
        "outputId": "684918f8-b32d-43e6-f1ad-3b99815d4cad"
      },
      "execution_count": 35,
      "outputs": [
        {
          "output_type": "display_data",
          "data": {
            "text/plain": [
              "<Figure size 640x480 with 1 Axes>"
            ],
            "image/png": "[encoded data removed]"
          },
          "metadata": {}
        }
      ]
    },
    {
      "cell_type": "code",
      "source": [
        "#Average accuracy of all trainings togetehr\n",
        "\n",
        "# List of epochs\n",
        "epochs = list(range(1, 36))\n",
        "\n",
        "# Accuracy for the first training\n",
        "training_1_accuracy = [0.7875069715560513, 0.7941996653653095, 0.7981038367540436, 0.7992191857222533, 0.7997769102063581, 0.8011712214166202, 0.8006134969325154, 0.800334634690463, 0.8017289459007251, 0.7989403234802008, 0.8020078081427775, 0.8022866703848299, 0.800334634690463, 0.8020078081427775, 0.8022866703848299, 0.8020078081427775, 0.8017289459007251, 0.8031232571109872, 0.8020078081427775, 0.8017289459007251, 0.8022866703848299, 0.8020078081427775, 0.8034021193530396, 0.803680981595092, 0.8042387060791969, 0.8034021193530396, 0.8034021193530396, 0.8042387060791969, 0.803680981595092, 0.8034021193530396, 0.8045175683212493, 0.8025655326268823, 0.8039598438371445, 0.8042387060791969, 0.8047964305633017, 0.8042387060791969, 0.8045175683212493, 0.8045175683212493, 0.803680981595092, 0.8039598438371445, 0.8045175683212493, 0.8042387060791969, 0.8042387060791969, 0.8047964305633017, 0.8047964305633017, 0.8047964305633017, 0.8050752928053542, 0.8050752928053542]\n",
        "\n",
        "# Accuracy for the second training\n",
        "training_2_accuracy = [0.7875069715560513, 0.797824874511991, 0.8061907417735639, 0.8073061907417736, 0.8134411600669269, 0.8131622978248745, 0.8123257110987172, 0.8142777467930842, 0.8126045733407696, 0.8106525376464027, 0.8134411600669269, 0.8112102621305075, 0.8134411600669269, 0.8134411600669269, 0.8131622978248745, 0.8128834355828221, 0.8120468488566648, 0.8126045733407696, 0.8128834355828221, 0.8128834355828221, 0.8123257110987172, 0.8126045733407696, 0.8134411600669269, 0.8131622978248745, 0.8128834355828221, 0.8126045733407696, 0.8137200223089793, 0.8128834355828221, 0.8123257110987172, 0.8131622978248745, 0.8134411600669269, 0.8137200223089793, 0.8128834355828221, 0.8126045733407696, 0.8134411600669269, 0.8145566090351366, 0.8156720580033463, 0.8176240936977134, 0.8212493028443949, 0.8176240936977134, 0.8179029559397658, 0.8187395426659231, 0.8218070273284998, 0.8218070273284998, 0.8215281650864473, 0.8220858895705522]\n",
        "\n",
        "# Accuracy for the third training\n",
        "training_3_accuracy = [0.7914110429447853, 0.8017289459007251, 0.8145566090351366, 0.8142777467930842, 0.8123257110987172, 0.8139988845510318, 0.8142777467930842, 0.814835471277189, 0.8114891243725599, 0.8170663692136084, 0.8165086447295036, 0.8159509202453987, 0.8181818181818182, 0.8176240936977134, 0.8192972671500279, 0.8156720580033463, 0.8176240936977134, 0.8212493028443949, 0.8176240936977134, 0.8179029559397658, 0.8187395426659231, 0.8218070273284998, 0.8218070273284998, 0.8215281650864473, 0.8220858895705522, 0.8215281650864473, 0.8218070273284998, 0.8204127161182376, 0.8215281650864473, 0.8212493028443949, 0.8220858895705522, 0.8204127161182376, 0.8215281650864473, 0.8215281650864473, 0.822643614054657]\n",
        "\n",
        "# Trim average_accuracy to match the length of epochs\n",
        "average_accuracy = average_accuracy[:len(epochs)]\n",
        "\n",
        "# Plot the average accuracy\n",
        "plt.plot(epochs, average_accuracy, label='Average Accuracy')\n",
        "\n",
        "plt.title('Average Accuracy During Training')\n",
        "plt.xlabel('Epochs')\n",
        "plt.ylabel('Average Accuracy')\n",
        "plt.legend()\n",
        "plt.grid(True)\n",
        "\n",
        "# Show the plot\n",
        "plt.show()"
      ],
      "metadata": {
        "colab": {
          "base_uri": "https://localhost:8080/",
          "height": 472
        },
        "id": "pf5GVT5BerCX",
        "outputId": "fb6af506-4877-42f0-f64b-beb327180589"
      },
      "execution_count": 36,
      "outputs": [
        {
          "output_type": "display_data",
          "data": {
            "text/plain": [
              "<Figure size 640x480 with 1 Axes>"
            ],
            "image/png": "[encoded data removed]"
          },
          "metadata": {}
        }
      ]
    },
    {
      "cell_type": "markdown",
      "source": [
        "### Training Accuracy Over Epochs\n",
        "\n",
        "These graphs illustrates the training progress and accuracy of a machine learning model across three distinct training sessions, each comprising 50 epochs. These accuracy values are measured at the conclusion of each epoch, offering a clear view of how the model's performance evolves over time.\n",
        "\n",
        "The three training sessions represent various runs of the same model, initialized with the same hyperparameters. By comparing these training sessions, we gain insights into the model's stability and its journey towards attaining an optimal accuracy value.\n",
        "\n",
        "The x-axis signifies the number of training epochs, indicating how many times the model iterated over the entire training dataset. On the other hand, the y-axis represents the accuracy attained by the model on a validation or test dataset, reflecting the proportion of correctly classified instances.\n",
        "\n",
        "In summary, this graph serves as a valuable tool for comprehending how the model's accuracy fluctuates during training. It aids in decision-making regarding model selection and fine-tuning by offering insights into whether additional training is required or if the model has already reached its peak performance."
      ],
      "metadata": {
        "id": "VcwTet6ZAx9U"
      }
    },
    {
      "cell_type": "markdown",
      "source": [
        "##Discussion"
      ],
      "metadata": {
        "id": "wTArCnPGQOic"
      }
    },
    {
      "cell_type": "markdown",
      "source": [
        "This project takes on the significant challenge of American Sign Language (ASL) hand sign recognition using machine learning (ML) techniques. ASL is a critical means of communication for individuals with hearing impairments, and automating the recognition of ASL hand signs has the potential to greatly enhance accessibility and communication within this community. The dataset used in this project comprises grayscale images of hand signs representing letters of the alphabet and digits, encompassing a total of 24 unique classes. The project encompasses several essential aspects, including data preprocessing, model architecture design, training, and evaluation.\n",
        "\n",
        "The selected model architecture, a feedforward neural network with multiple hidden layers and ReLU activation functions, demonstrates a thoughtful choice for this image classification task within the realm of ML. Hyperparameters, including mini-batch size, learning rate, and the number of epochs, were meticulously considered to strike a balance between computational efficiency and model convergence. The training process, highlighted through accuracy plots, illustrates the model's ability to learn and generalize from the ASL dataset effectively. Furthermore, the project emphasizes code transparency and explanations of key equations and functions, fostering understanding and reproducibility."
      ],
      "metadata": {
        "id": "cpyh4ei-QSy5"
      }
    },
    {
      "cell_type": "markdown",
      "source": [
        "##Conclusion"
      ],
      "metadata": {
        "id": "fiGyyF2IQTDq"
      }
    },
    {
      "cell_type": "markdown",
      "source": [
        "In summary, this collaborative effort by our team, adhering to the submission guidelines, has successfully tackled the task of building a Fully Connected Network for American Sign Language (ASL) hand sign recognition. Our data preprocessing, model architecture design, and training loop implementation were executed meticulously, reflecting our commitment to achieving a robust solution for the ASL dataset.\n",
        "\n",
        "The resulting model, with carefully chosen hyperparameters and architecture, exhibits impressive performance, surpassing the minimum accuracy threshold of 75-80%. Our documentation, and detailed explanations, provides transparency into our decision-making processes, aiding in the understanding and reproducibility of our work. As a team, we have effectively demonstrated the feasibility of leveraging machine learning techniques to enhance ASL communication, contributing to the accessibility and inclusivity of this vital form of communication for the hearing-impaired community."
      ],
      "metadata": {
        "id": "i_eA4o6iQXa1"
      }
    }
  ],
  "metadata": {
    "kernelspec": {
      "display_name": "Python 3 (ipykernel)",
      "language": "python",
      "name": "python3"
    },
    "language_info": {
      "codemirror_mode": {
        "name": "ipython",
        "version": 3
      },
      "file_extension": ".py",
      "mimetype": "text/x-python",
      "name": "python",
      "nbconvert_exporter": "python",
      "pygments_lexer": "ipython3",
      "version": "3.9.0"
    },
    "toc": {
      "base_numbering": 1,
      "nav_menu": {},
      "number_sections": true,
      "sideBar": true,
      "skip_h1_title": false,
      "title_cell": "Table of Contents",
      "title_sidebar": "Contents",
      "toc_cell": false,
      "toc_position": {},
      "toc_section_display": true,
      "toc_window_display": false
    },
    "varInspector": {
      "cols": {
        "lenName": 16,
        "lenType": 16,
        "lenVar": 40
      },
      "kernels_config": {
        "python": {
          "delete_cmd_postfix": "",
          "delete_cmd_prefix": "del ",
          "library": "var_list.py",
          "varRefreshCmd": "print(var_dic_list())"
        },
        "r": {
          "delete_cmd_postfix": ") ",
          "delete_cmd_prefix": "rm(",
          "library": "var_list.r",
          "varRefreshCmd": "cat(var_dic_list()) "
        }
      },
      "types_to_exclude": [
        "module",
        "function",
        "builtin_function_or_method",
        "instance",
        "_Feature"
      ],
      "window_display": false
    },
    "colab": {
      "provenance": [],
      "toc_visible": true,
      "include_colab_link": true
    }
  },
  "nbformat": 4,
  "nbformat_minor": 0
}